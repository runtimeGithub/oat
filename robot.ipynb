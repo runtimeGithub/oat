{
 "cells": [
  {
   "cell_type": "code",
   "execution_count": 1,
   "id": "6eef40a3-5497-433a-b848-135fd09c1811",
   "metadata": {},
   "outputs": [],
   "source": [
    "import pandas as pd"
   ]
  },
  {
   "cell_type": "code",
   "execution_count": 3,
   "id": "50dca2e6-8281-483a-a313-49a2301fec25",
   "metadata": {},
   "outputs": [],
   "source": [
    "import yfinance as yf"
   ]
  },
  {
   "cell_type": "code",
   "execution_count": 2,
   "id": "45388b05-fcaa-4d0b-9fd6-dd20f035a6d8",
   "metadata": {},
   "outputs": [],
   "source": [
    "from Meta_oat import MT"
   ]
  },
  {
   "cell_type": "code",
   "execution_count": null,
   "id": "415d357d-b6d5-4678-909a-96f8946c76fe",
   "metadata": {},
   "outputs": [],
   "source": []
  }
 ],
 "metadata": {
  "kernelspec": {
   "display_name": "Python 3 (ipykernel)",
   "language": "python",
   "name": "python3"
  },
  "language_info": {
   "codemirror_mode": {
    "name": "ipython",
    "version": 3
   },
   "file_extension": ".py",
   "mimetype": "text/x-python",
   "name": "python",
   "nbconvert_exporter": "python",
   "pygments_lexer": "ipython3",
   "version": "3.11.5"
  }
 },
 "nbformat": 4,
 "nbformat_minor": 5
}
